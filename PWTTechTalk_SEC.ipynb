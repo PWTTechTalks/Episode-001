{
 "cells": [
  {
   "cell_type": "markdown",
   "metadata": {},
   "source": [
    "<!-- @format -->\n",
    "\n",
    "#### Do all the imports\n"
   ]
  },
  {
   "cell_type": "code",
   "execution_count": 1,
   "metadata": {},
   "outputs": [],
   "source": [
    "import requests   # for getting the web data\n",
    "from dotenv import load_dotenv   # for dealing with secrets and environment variables\n",
    "from os import getenv  # more environment variable stuff\n",
    "from json import dump  # \n"
   ]
  },
  {
   "cell_type": "markdown",
   "metadata": {},
   "source": [
    "<!-- @format -->\n",
    "\n",
    "#### load the environments and a variable or two\n"
   ]
  },
  {
   "cell_type": "code",
   "execution_count": 2,
   "metadata": {},
   "outputs": [],
   "source": [
    "load_dotenv(\"techtalk_SEC.secrets\")   # userids and passwords and api keys and so forth\n",
    "load_dotenv(\"techtalk_SEC.env\")    # miscellaneous setup stuff that isn't actually secret\n",
    "\n",
    "ticker_symbol = \"JPM-PD\"   # Because everyone loves Jamie Dimon"
   ]
  },
  {
   "cell_type": "markdown",
   "metadata": {},
   "source": [
    "<!-- @format -->\n",
    "\n",
    "#### put all the pieces of the api call together\n"
   ]
  },
  {
   "cell_type": "code",
   "execution_count": 3,
   "metadata": {},
   "outputs": [],
   "source": [
    "r = requests.Request(\n",
    "    method=\"GET\",\n",
    "    url=f'{getenv(\"WEB_URL\")}/files/company_tickers.json',\n",
    "    headers={\n",
    "        \"User-Agent\": getenv(\"SEC-User-Agent\"),        # We hide the user agent so that bots don't scrape and misuse it\n",
    "        \"Accept\": \"application/json\",\n",
    "    },\n",
    ")"
   ]
  },
  {
   "cell_type": "markdown",
   "metadata": {},
   "source": [
    "<!-- @format -->\n",
    "\n",
    "#### Go get the data\n"
   ]
  },
  {
   "cell_type": "code",
   "execution_count": 4,
   "metadata": {},
   "outputs": [],
   "source": [
    "s = requests.Session()\n",
    "\n",
    "req = s.send(r.prepare())"
   ]
  },
  {
   "cell_type": "markdown",
   "metadata": {},
   "source": [
    "<!-- @format -->\n",
    "\n",
    "##### Save the response to an external file\n",
    "##### Completely optional but I like to have a file around to see the stucture of the data\n"
   ]
  },
  {
   "cell_type": "code",
   "execution_count": 5,
   "metadata": {},
   "outputs": [],
   "source": [
    "with open(file=\"cik_tickers.json\", mode=\"w\") as file:\n",
    "    dump(req.json(), file)"
   ]
  },
  {
   "cell_type": "markdown",
   "metadata": {},
   "source": [
    "#### stash the ticker mapping into a couple of dicts for later\n"
   ]
  },
  {
   "cell_type": "code",
   "execution_count": 6,
   "metadata": {},
   "outputs": [],
   "source": [
    "the_json = req.json()\n",
    "ticker_cik = {the_json[a][\"ticker\"]: str(the_json[a][\"cik_str\"]).zfill(10) for a in the_json}\n",
    "cik_ticker = {str(the_json[a][\"cik_str\"]).zfill(10): the_json[a][\"ticker\"] for a in the_json}"
   ]
  },
  {
   "cell_type": "markdown",
   "metadata": {},
   "source": [
    "<!-- @format -->\n",
    "\n",
    "#### Pull your favorite company's CIK from the dictionary "
   ]
  },
  {
   "cell_type": "code",
   "execution_count": 7,
   "metadata": {},
   "outputs": [],
   "source": [
    "ticker_symbol = \"JPM-PD\"   # Because everyone loves Jamie Dimon\n",
    "\n",
    "company_cik = ticker_cik[ticker_symbol]"
   ]
  },
  {
   "cell_type": "markdown",
   "metadata": {},
   "source": [
    "<!-- @format -->\n",
    "\n",
    "#### And go get the list of \"recent\" submissions for that company\n"
   ]
  },
  {
   "cell_type": "code",
   "execution_count": 8,
   "metadata": {},
   "outputs": [],
   "source": [
    "r.url = f\"\"\"{getenv(\"DATA_URL\")}/api/xbrl/companyfacts/CIK{company_cik}.json\"\"\" \n",
    "\n",
    "req = s.send(r.prepare())"
   ]
  },
  {
   "cell_type": "markdown",
   "metadata": {},
   "source": [
    "<!-- @format -->\n",
    "\n",
    "#### Save the results to a file again\n"
   ]
  },
  {
   "cell_type": "code",
   "execution_count": 9,
   "metadata": {},
   "outputs": [],
   "source": [
    "with open(file=f\"company-facts-{ticker_symbol}.json\", mode=\"w\") as file:\n",
    "    dump(req.json(), file)"
   ]
  },
  {
   "cell_type": "markdown",
   "metadata": {},
   "source": [
    "\n",
    "\n",
    "#### save all of the facts to a dict for later use\n"
   ]
  },
  {
   "cell_type": "code",
   "execution_count": 10,
   "metadata": {},
   "outputs": [],
   "source": [
    "company_facts: dict = req.json()\n"
   ]
  },
  {
   "cell_type": "markdown",
   "metadata": {},
   "source": [
    "##### You are now ready to spelunk through the financial results of your favorite publically traded company! "
   ]
  }
 ],
 "metadata": {
  "kernelspec": {
   "display_name": "forJupyter",
   "language": "python",
   "name": "forjupyter"
  },
  "language_info": {
   "codemirror_mode": {
    "name": "ipython",
    "version": 3
   },
   "file_extension": ".py",
   "mimetype": "text/x-python",
   "name": "python",
   "nbconvert_exporter": "python",
   "pygments_lexer": "ipython3",
   "version": "3.11.4"
  }
 },
 "nbformat": 4,
 "nbformat_minor": 4
}
