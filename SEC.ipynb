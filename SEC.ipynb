{
 "cells": [
  {
   "cell_type": "markdown",
   "metadata": {},
   "source": [
    "#### Do all the imports"
   ]
  },
  {
   "cell_type": "code",
   "execution_count": 1,
   "metadata": {},
   "outputs": [],
   "source": [
    "import requests \n",
    "from postgres import Postgres\n",
    "import dotenv\n",
    "import os\n",
    "from json import dump"
   ]
  },
  {
   "cell_type": "markdown",
   "metadata": {},
   "source": [
    "#### load the environments"
   ]
  },
  {
   "cell_type": "code",
   "execution_count": 2,
   "metadata": {},
   "outputs": [
    {
     "data": {
      "text/plain": [
       "True"
      ]
     },
     "execution_count": 2,
     "metadata": {},
     "output_type": "execute_result"
    }
   ],
   "source": [
    "dotenv.load_dotenv('techtalk_SEC.secrets')\n",
    "dotenv.load_dotenv('techtalk_SEC.env')"
   ]
  },
  {
   "cell_type": "markdown",
   "metadata": {},
   "source": [
    "#### prepare  the request"
   ]
  },
  {
   "cell_type": "code",
   "execution_count": 3,
   "metadata": {},
   "outputs": [],
   "source": [
    "\n",
    "\n",
    "SEC_headers= {\n",
    "    \"User-Agent\":\"PWTTechTalkBot/1.0 Port Wallis Technologies contact - rwolfe@portwallistechnologies.com\",\n",
    "    \"Accept\":\"application/json\"\n",
    "} \n",
    "\n",
    "the_url = f'{os.getenv(\"WEB_URL\")}/files/company_tickers.json'\n",
    "\n",
    "r= requests.Request(method='GET',url=the_url,headers=SEC_headers)\n",
    "s = requests.Session()"
   ]
  },
  {
   "cell_type": "markdown",
   "metadata": {},
   "source": [
    "#### Go get the data"
   ]
  },
  {
   "cell_type": "code",
   "execution_count": 4,
   "metadata": {},
   "outputs": [],
   "source": [
    "\n",
    "req= s.send( r.prepare())"
   ]
  },
  {
   "cell_type": "markdown",
   "metadata": {},
   "source": [
    "#### Save the response to an external file (completely optional)"
   ]
  },
  {
   "cell_type": "code",
   "execution_count": 5,
   "metadata": {},
   "outputs": [],
   "source": [
    "with open(file='cik_tickers.json',mode='w') as file:\n",
    "    dump(req.json(),file)   "
   ]
  },
  {
   "cell_type": "markdown",
   "metadata": {},
   "source": [
    "#### Stash the response data  in a variable "
   ]
  },
  {
   "cell_type": "code",
   "execution_count": 6,
   "metadata": {},
   "outputs": [],
   "source": [
    "the_json = req.json()"
   ]
  },
  {
   "cell_type": "markdown",
   "metadata": {},
   "source": [
    "#### Stash the response in a database table\n",
    "\n",
    "1. create the connection\n",
    "1. clear out the table\n",
    "1. insert the new data "
   ]
  },
  {
   "cell_type": "code",
   "execution_count": 8,
   "metadata": {},
   "outputs": [],
   "source": [
    "db = Postgres()\n",
    "    \n",
    "# always clear out the table first\n",
    "\n",
    "db.run(f'truncate table \"{os.getenv(\"PG_SCHEMA\")}\".company_ticker')\n",
    "\n",
    "# bad for us to just toss away this but ...\n",
    "\n",
    "a = [ db.run(  f\"\"\"insert  into \"{os.getenv(\"PG_SCHEMA\")}\".company_ticker(\n",
    "                cik_str,\n",
    "                ticker,\n",
    "                title) \n",
    "               values (\n",
    "                   '{the_json[a][\"cik_str\"]}',\n",
    "                   '{the_json[a][\"ticker\"]}',\n",
    "                   '{the_json[a][\"title\"].replace(\"'\",\"''\")}') \"\"\" ) \n",
    "       for a in the_json]"
   ]
  },
  {
   "cell_type": "markdown",
   "metadata": {},
   "source": [
    "#### Pull your favorite company's CIK from the database table"
   ]
  },
  {
   "cell_type": "code",
   "execution_count": 9,
   "metadata": {},
   "outputs": [],
   "source": [
    "ticker_symbol = 'AES'\n",
    "\n",
    "company_cik :str = db.one(f\"\"\"select cik_str from \n",
    "                          \"{os.getenv(\"PG_SCHEMA\")}\".company_ticker where ticker = '{ticker_symbol}' \"\"\")\n",
    "\n",
    "# CIK has to be 0 padded to 10 digits with leading 0's or it just honks \n",
    "\n",
    "company_cik = company_cik.rjust(10,'0')"
   ]
  },
  {
   "cell_type": "markdown",
   "metadata": {},
   "source": [
    "#### And go get the list of recent submissions for that company"
   ]
  },
  {
   "cell_type": "code",
   "execution_count": 10,
   "metadata": {},
   "outputs": [],
   "source": [
    "\n",
    "the_url = f\"\"\"{os.getenv(\"DATA_URL\")}/submissions/CIK{company_cik}.json\"\"\"\n",
    "\n",
    "r.url = the_url\n",
    "\n",
    "req= s.send( r.prepare())"
   ]
  },
  {
   "cell_type": "markdown",
   "metadata": {},
   "source": [
    "#### Save the results to a file again"
   ]
  },
  {
   "cell_type": "code",
   "execution_count": 11,
   "metadata": {},
   "outputs": [],
   "source": [
    "with open(file=f'submissions-{ticker_symbol}.json',mode='w') as file:\n",
    "    dump(req.json(),file)"
   ]
  },
  {
   "cell_type": "markdown",
   "metadata": {},
   "source": [
    "#### save the submissions to a couple of  dicts for later use"
   ]
  },
  {
   "cell_type": "code",
   "execution_count": 37,
   "metadata": {},
   "outputs": [],
   "source": [
    "\n",
    "submissions:dict = req.json()\n",
    "\n",
    "recent_filings:dict = submissions[\"filings\"][\"recent\"]\n"
   ]
  },
  {
   "cell_type": "code",
   "execution_count": 59,
   "metadata": {},
   "outputs": [
    {
     "ename": "IndexError",
     "evalue": "list index out of range",
     "output_type": "error",
     "traceback": [
      "\u001b[1;31m---------------------------------------------------------------------------\u001b[0m",
      "\u001b[1;31mIndexError\u001b[0m                                Traceback (most recent call last)",
      "Cell \u001b[1;32mIn[59], line 9\u001b[0m\n\u001b[0;32m      7\u001b[0m latest_10Q \u001b[39m=\u001b[39m sub_list[form10Q[\u001b[39m0\u001b[39m]]\n\u001b[0;32m      8\u001b[0m latest_10Q_1 \u001b[39m=\u001b[39m  {k: recent_filings[k][form10Q[\u001b[39m0\u001b[39m]] \u001b[39mfor\u001b[39;00m k \u001b[39min\u001b[39;00m recent_filings\u001b[39m.\u001b[39mkeys()}\n\u001b[1;32m----> 9\u001b[0m all_10Q \u001b[39m=\u001b[39m {k: recent_filings[k][form10Q[i]] \u001b[39mfor\u001b[39;49;00m i \u001b[39min\u001b[39;49;00m \u001b[39mrange\u001b[39;49m(\u001b[39mlen\u001b[39;49m(form10Q)) \u001b[39mfor\u001b[39;49;00m k \u001b[39min\u001b[39;49;00m recent_filings\u001b[39m.\u001b[39;49mkeys()}\n",
      "Cell \u001b[1;32mIn[59], line 9\u001b[0m, in \u001b[0;36m<dictcomp>\u001b[1;34m(.0)\u001b[0m\n\u001b[0;32m      7\u001b[0m latest_10Q \u001b[39m=\u001b[39m sub_list[form10Q[\u001b[39m0\u001b[39m]]\n\u001b[0;32m      8\u001b[0m latest_10Q_1 \u001b[39m=\u001b[39m  {k: recent_filings[k][form10Q[\u001b[39m0\u001b[39m]] \u001b[39mfor\u001b[39;00m k \u001b[39min\u001b[39;00m recent_filings\u001b[39m.\u001b[39mkeys()}\n\u001b[1;32m----> 9\u001b[0m all_10Q \u001b[39m=\u001b[39m {k: recent_filings[k][form10Q[i]] \u001b[39mfor\u001b[39;00m i \u001b[39min\u001b[39;00m \u001b[39mrange\u001b[39m(\u001b[39mlen\u001b[39m(form10Q)) \u001b[39mfor\u001b[39;00m k \u001b[39min\u001b[39;00m recent_filings\u001b[39m.\u001b[39mkeys()}\n",
      "\u001b[1;31mIndexError\u001b[0m: list index out of range"
     ]
    }
   ],
   "source": [
    "submission_count =  len(recent_filings[\"accessionNumber\"])\n",
    "sub_list = []\n",
    "for i in range(submission_count):\n",
    "    sub_list.append( {k: recent_filings[k][i] for k in recent_filings.keys()})\n",
    "\n",
    "form10Q = [i for i in range(len(sub_list)) if sub_list[i][\"form\"] == \"10-Q\"]\n",
    "latest_10Q = sub_list[form10Q[0]]\n",
    "latest_10Q_1 =  {k: recent_filings[k][form10Q[0]] for k in recent_filings.keys()}\n",
    "all_10Q = [] \n",
    "\n",
    "for i in range(len(form10Q) all_10Q = {k: recent_filings[k][form10Q[i]] for i in range(len(form10Q)) for k in recent_filings.keys()}"
   ]
  }
 ],
 "metadata": {
  "kernelspec": {
   "display_name": ".venv",
   "language": "python",
   "name": "python3"
  },
  "language_info": {
   "codemirror_mode": {
    "name": "ipython",
    "version": 3
   },
   "file_extension": ".py",
   "mimetype": "text/x-python",
   "name": "python",
   "nbconvert_exporter": "python",
   "pygments_lexer": "ipython3",
   "version": "3.11.4"
  },
  "orig_nbformat": 4
 },
 "nbformat": 4,
 "nbformat_minor": 2
}
