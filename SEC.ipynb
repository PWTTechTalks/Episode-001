{
 "cells": [
  {
   "cell_type": "code",
   "execution_count": 30,
   "metadata": {},
   "outputs": [
    {
     "name": "stdout",
     "output_type": "stream",
     "text": [
      "{'accessionNumber': '0000874761-23-000073', 'filingDate': '2023-08-03', 'reportDate': '2023-08-03', 'acceptanceDateTime': '2023-08-03T17:22:04.000Z', 'act': '34', 'form': '8-K', 'fileNumber': '001-12291', 'filmNumber': '231141240', 'items': '2.02,7.01,9.01', 'size': 764538, 'isXBRL': 1, 'isInlineXBRL': 1, 'primaryDocument': 'aes-20230803.htm', 'primaryDocDescription': '8-K'}\n"
     ]
    }
   ],
   "source": [
    "import requests \n",
    "from postgres import Postgres\n",
    "import dotenv\n",
    "import os\n",
    "import json as js\n",
    "\n",
    "dotenv.load_dotenv('techtalk_SEC.secrets')\n",
    "dotenv.load_dotenv('techtalk_SEC.env')\n",
    "\n",
    "SEC_headers= {\n",
    "    \"User-Agent\":\"PWTTechTalkBot/1.0 Port Wallis Technologies contact - rwolfe@portwallistechnologies.com\",\n",
    "    \"Accept\":\"application/json\"\n",
    "} \n",
    "r= requests.Request(method='GET',url=f'{os.getenv(\"WEB_URL\")}/files/company_tickers.json',headers=SEC_headers)\n",
    "s = requests.Session()\n",
    "req= s.send( r.prepare())\n",
    "\n",
    "with open(file='cik_tickers.json',mode='w') as file:\n",
    "    the_json = req.json()\n",
    "    \n",
    "db = Postgres()\n",
    "    \n",
    "# always clear out the table first\n",
    "\n",
    "db.run(f'truncate table \"{os.getenv(\"PG_SCHEMA\")}\".company_ticker')\n",
    "\n",
    "# bad for us to just toss away this but ...\n",
    "\n",
    "a = [ db.run(  f\"\"\"insert  into \"{os.getenv(\"PG_SCHEMA\")}\".company_ticker(\n",
    "                cik_str,\n",
    "                ticker,\n",
    "                title) \n",
    "               values (\n",
    "                   '{the_json[a][\"cik_str\"]}',\n",
    "                   '{the_json[a][\"ticker\"]}',\n",
    "                   '{the_json[a][\"title\"].replace(\"'\",\"''\")}') \"\"\" ) \n",
    "       for a in the_json]\n",
    "\n",
    "company_cik :str = db.one(f\"\"\"select cik_str from \"{os.getenv(\"PG_SCHEMA\")}\".company_ticker where ticker = 'AES' \"\"\")\n",
    "\n",
    "req = requests.get(url=f\"\"\"{os.getenv(\"DATA_URL\")}/submissions/CIK{company_cik.rjust(10,'0')}.json\"\"\", headers=SEC_headers)\n",
    "\n",
    "with open(file='thedump.json',mode='w') as file:\n",
    "    js.dump(req.json(),file)\n",
    "\n",
    "submissions:dict = req.json()\n",
    "\n",
    "recent_filings:dict = submissions[\"filings\"][\"recent\"]\n",
    "\n",
    "\n",
    "print( {k: recent_filings[k][0] for k in recent_filings.keys()})\n",
    "\n",
    "\n",
    "\n"
   ]
  }
 ],
 "metadata": {
  "kernelspec": {
   "display_name": ".venv",
   "language": "python",
   "name": "python3"
  },
  "language_info": {
   "codemirror_mode": {
    "name": "ipython",
    "version": 3
   },
   "file_extension": ".py",
   "mimetype": "text/x-python",
   "name": "python",
   "nbconvert_exporter": "python",
   "pygments_lexer": "ipython3",
   "version": "3.11.4"
  },
  "orig_nbformat": 4
 },
 "nbformat": 4,
 "nbformat_minor": 2
}
