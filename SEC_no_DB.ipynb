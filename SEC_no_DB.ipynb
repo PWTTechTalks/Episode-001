{
 "cells": [
  {
   "cell_type": "markdown",
   "metadata": {},
   "source": [
    "<!-- @format -->\n",
    "\n",
    "#### Do all the imports\n"
   ]
  },
  {
   "cell_type": "code",
   "execution_count": 1,
   "metadata": {},
   "outputs": [],
   "source": [
    "import requests\n",
    "from dotenv import load_dotenv\n",
    "from os import getenv\n",
    "from json import dump"
   ]
  },
  {
   "cell_type": "markdown",
   "metadata": {},
   "source": [
    "<!-- @format -->\n",
    "\n",
    "#### load the environments\n"
   ]
  },
  {
   "cell_type": "code",
   "execution_count": 2,
   "metadata": {},
   "outputs": [
    {
     "data": {
      "text/plain": [
       "True"
      ]
     },
     "execution_count": 2,
     "metadata": {},
     "output_type": "execute_result"
    }
   ],
   "source": [
    "load_dotenv(\"techtalk_SEC.secrets\")\n",
    "load_dotenv(\"techtalk_SEC.env\")"
   ]
  },
  {
   "cell_type": "markdown",
   "metadata": {},
   "source": [
    "<!-- @format -->\n",
    "\n",
    "#### prepare the request\n"
   ]
  },
  {
   "cell_type": "code",
   "execution_count": 3,
   "metadata": {},
   "outputs": [],
   "source": [
    "r = requests.Request(\n",
    "    method=\"GET\",\n",
    "    url=f'{getenv(\"WEB_URL\")}/files/company_tickers.json',\n",
    "    headers={\n",
    "        \"User-Agent\": \"PWTTechTalkBot/1.0 Port Wallis Technologies contact - rwolfe@portwallistechnologies.com\",\n",
    "        \"Accept\": \"application/json\",\n",
    "    },\n",
    ")\n",
    "\n",
    "s = requests.Session()"
   ]
  },
  {
   "cell_type": "markdown",
   "metadata": {},
   "source": [
    "<!-- @format -->\n",
    "\n",
    "#### Go get the data\n"
   ]
  },
  {
   "cell_type": "code",
   "execution_count": 4,
   "metadata": {},
   "outputs": [],
   "source": [
    "req = s.send(r.prepare())"
   ]
  },
  {
   "cell_type": "markdown",
   "metadata": {},
   "source": [
    "<!-- @format -->\n",
    "\n",
    "#### Save the response to an external file (completely optional)\n"
   ]
  },
  {
   "cell_type": "code",
   "execution_count": 5,
   "metadata": {},
   "outputs": [],
   "source": [
    "with open(file=\"cik_tickers.json\", mode=\"w\") as file:\n",
    "    dump(req.json(), file)"
   ]
  },
  {
   "cell_type": "markdown",
   "metadata": {},
   "source": [
    "#### stash the ticker mapping into a dict for later\n"
   ]
  },
  {
   "cell_type": "code",
   "execution_count": 10,
   "metadata": {},
   "outputs": [],
   "source": [
    "the_json = req.json()\n",
    "ticker_cik = {the_json[a][\"ticker\"]: str(the_json[a][\"cik_str\"]).zfill(10) for a in the_json}\n",
    "cik_ticker = {str(the_json[a][\"cik_str\"]).zfill(10): the_json[a][\"ticker\"] for a in the_json}"
   ]
  },
  {
   "cell_type": "markdown",
   "metadata": {},
   "source": [
    "<!-- @format -->\n",
    "\n",
    "#### Pull your favorite company's CIK from the dictionary "
   ]
  },
  {
   "cell_type": "code",
   "execution_count": 11,
   "metadata": {},
   "outputs": [],
   "source": [
    "ticker_symbol = \"AES\"\n",
    "\n",
    "company_cik = ticker_cik[ticker_symbol]"
   ]
  },
  {
   "cell_type": "markdown",
   "metadata": {},
   "source": [
    "<!-- @format -->\n",
    "\n",
    "#### And go get the list of recent submissions for that company\n"
   ]
  },
  {
   "cell_type": "code",
   "execution_count": 12,
   "metadata": {},
   "outputs": [],
   "source": [
    "r.url = f\"\"\"{getenv(\"DATA_URL\")}/submissions/CIK{company_cik}.json\"\"\"\n",
    "\n",
    "req = s.send(r.prepare())"
   ]
  },
  {
   "cell_type": "markdown",
   "metadata": {},
   "source": [
    "<!-- @format -->\n",
    "\n",
    "#### Save the results to a file again\n"
   ]
  },
  {
   "cell_type": "code",
   "execution_count": 13,
   "metadata": {},
   "outputs": [],
   "source": [
    "with open(file=f\"submissions-{ticker_symbol}.json\", mode=\"w\") as file:\n",
    "    dump(req.json(), file)"
   ]
  },
  {
   "cell_type": "markdown",
   "metadata": {},
   "source": [
    "<!-- @format -->\n",
    "\n",
    "#### save the submissions to a couple of dicts for later use\n"
   ]
  },
  {
   "cell_type": "code",
   "execution_count": 14,
   "metadata": {},
   "outputs": [],
   "source": [
    "submissions: dict = req.json()\n",
    "\n",
    "recent_filings: dict = submissions[\"filings\"][\"recent\"]\n",
    "\n",
    "submission_count = len(recent_filings[\"accessionNumber\"])\n",
    "\n",
    "sub_list = []\n",
    "\n",
    "for i in range(submission_count):\n",
    "    sub_list.append({k: recent_filings[k][i] for k in recent_filings.keys()})"
   ]
  },
  {
   "cell_type": "code",
   "execution_count": 15,
   "metadata": {},
   "outputs": [],
   "source": [
    "form_names = set()\n",
    "\n",
    "toss_me = [\n",
    "    form_names.add(sub_list[i][\"form\"])\n",
    "    for i in range(len(sub_list))\n",
    "    if sub_list[i][\"form\"] not in form_names\n",
    "]\n",
    "\n",
    "all_forms: dict[str:list] = {k: list() for k in form_names}\n",
    "\n",
    "\n",
    "toss_me = [\n",
    "    all_forms[sub_list[i][\"form\"]].append(sub_list[i]) for i in range(submission_count)\n",
    "]\n",
    "\n",
    "del toss_me"
   ]
  }
 ],
 "metadata": {
  "kernelspec": {
   "display_name": ".venv",
   "language": "python",
   "name": "python3"
  },
  "language_info": {
   "codemirror_mode": {
    "name": "ipython",
    "version": 3
   },
   "file_extension": ".py",
   "mimetype": "text/x-python",
   "name": "python",
   "nbconvert_exporter": "python",
   "pygments_lexer": "ipython3",
   "version": "3.11.4"
  },
  "orig_nbformat": 4
 },
 "nbformat": 4,
 "nbformat_minor": 2
}
