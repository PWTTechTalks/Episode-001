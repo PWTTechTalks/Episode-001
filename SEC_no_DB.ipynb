{
 "cells": [
  {
   "cell_type": "markdown",
   "metadata": {},
   "source": [
    "<!-- @format -->\n",
    "\n",
    "#### Do all the imports\n"
   ]
  },
  {
   "cell_type": "code",
   "execution_count": null,
   "metadata": {},
   "outputs": [],
   "source": [
    "import requests\n",
    "from dotenv import load_dotenv\n",
    "from os import getenv\n",
    "from json import dump\n",
    "import pickle"
   ]
  },
  {
   "cell_type": "markdown",
   "metadata": {},
   "source": [
    "<!-- @format -->\n",
    "\n",
    "#### load the environments\n"
   ]
  },
  {
   "cell_type": "code",
   "execution_count": null,
   "metadata": {},
   "outputs": [],
   "source": [
    "load_dotenv(\"techtalk_SEC.secrets\")\n",
    "load_dotenv(\"techtalk_SEC.env\")"
   ]
  },
  {
   "cell_type": "markdown",
   "metadata": {},
   "source": [
    "<!-- @format -->\n",
    "\n",
    "#### prepare the request\n"
   ]
  },
  {
   "cell_type": "code",
   "execution_count": null,
   "metadata": {},
   "outputs": [],
   "source": [
    "r = requests.Request(\n",
    "    method=\"GET\",\n",
    "    url=f'{getenv(\"WEB_URL\")}/files/company_tickers.json',\n",
    "    headers={\n",
    "        \"User-Agent\": \"PWTTechTalkBot/1.0 Port Wallis Technologies contact - rwolfe@portwallistechnologies.com\",\n",
    "        \"Accept\": \"application/json\",\n",
    "    },\n",
    ")\n",
    "\n",
    "s = requests.Session()"
   ]
  },
  {
   "cell_type": "markdown",
   "metadata": {},
   "source": [
    "<!-- @format -->\n",
    "\n",
    "#### Go get the data\n"
   ]
  },
  {
   "cell_type": "code",
   "execution_count": null,
   "metadata": {},
   "outputs": [],
   "source": [
    "req = s.send(r.prepare())"
   ]
  },
  {
   "cell_type": "markdown",
   "metadata": {},
   "source": [
    "<!-- @format -->\n",
    "\n",
    "#### Save the response to an external file (completely optional)\n"
   ]
  },
  {
   "cell_type": "code",
   "execution_count": null,
   "metadata": {},
   "outputs": [],
   "source": [
    "with open(file=\"cik_tickers.json\", mode=\"w\") as file:\n",
    "    dump(req.json(), file)"
   ]
  },
  {
   "cell_type": "markdown",
   "metadata": {},
   "source": [
    "#### stash the ticker mapping into a dict for later\n"
   ]
  },
  {
   "cell_type": "code",
   "execution_count": null,
   "metadata": {},
   "outputs": [],
   "source": [
    "the_json = req.json()\n",
    "ticker_cik = {the_json[a][\"ticker\"]: str(the_json[a][\"cik_str\"]).zfill(10) for a in the_json}\n",
    "cik_ticker = {str(the_json[a][\"cik_str\"]).zfill(10): the_json[a][\"ticker\"] for a in the_json}"
   ]
  },
  {
   "cell_type": "markdown",
   "metadata": {},
   "source": [
    "<!-- @format -->\n",
    "\n",
    "#### Pull your favorite company's CIK from the dictionary "
   ]
  },
  {
   "cell_type": "code",
   "execution_count": null,
   "metadata": {},
   "outputs": [],
   "source": [
    "ticker_symbol = \"IBM\"\n",
    "\n",
    "company_cik = ticker_cik[ticker_symbol]"
   ]
  },
  {
   "cell_type": "markdown",
   "metadata": {},
   "source": [
    "<!-- @format -->\n",
    "\n",
    "#### And go get the list of \"concepts\" submissions for that company\n"
   ]
  },
  {
   "cell_type": "code",
   "execution_count": null,
   "metadata": {},
   "outputs": [],
   "source": [
    "r.url = f\"\"\"{getenv(\"DATA_URL\")}/api/xbrl/companyfacts/CIK{company_cik}.json\"\"\" \n",
    "\n",
    "req = s.send(r.prepare())"
   ]
  },
  {
   "cell_type": "markdown",
   "metadata": {},
   "source": [
    "<!-- @format -->\n",
    "\n",
    "#### Save the results to a file again\n"
   ]
  },
  {
   "cell_type": "code",
   "execution_count": null,
   "metadata": {},
   "outputs": [],
   "source": [
    "with open(file=f\"company-facts-{ticker_symbol}.json\", mode=\"w\") as file:\n",
    "    dump(req.json(), file)"
   ]
  },
  {
   "cell_type": "markdown",
   "metadata": {},
   "source": [
    "\n",
    "\n",
    "#### save all of the facts to a couple of dicts for later use\n"
   ]
  },
  {
   "cell_type": "code",
   "execution_count": null,
   "metadata": {},
   "outputs": [],
   "source": [
    "company_facts: dict = req.json()\n",
    "print (len(pickle.dumps(company_facts)))\n",
    "a = sorted([f for  f in company_facts[\"facts\"][\"us-gaap\"] if  \"Revenues\" == f or \"NetIncomeLoss\" == f] )\n"
   ]
  },
  {
   "cell_type": "markdown",
   "metadata": {},
   "source": [
    "#### Go get the revene and income information for the company\n",
    "\n",
    "\n",
    "\n"
   ]
  },
  {
   "cell_type": "code",
   "execution_count": null,
   "metadata": {},
   "outputs": [],
   "source": [
    "r.url = f\"\"\"{getenv(\"DATA_URL\")}/api/xbrl/companyconcept/CIK{company_cik}/gaap/Revenues.json\"\"\" \n",
    "req = s.send(r.prepare())\n",
    "\n",
    "the_json = req.json()"
   ]
  }
 ],
 "metadata": {
  "kernelspec": {
   "display_name": ".venv",
   "language": "python",
   "name": "python3"
  },
  "language_info": {
   "codemirror_mode": {
    "name": "ipython",
    "version": 3
   },
   "file_extension": ".py",
   "mimetype": "text/x-python",
   "name": "python",
   "nbconvert_exporter": "python",
   "pygments_lexer": "ipython3",
   "version": "3.11.4"
  },
  "orig_nbformat": 4
 },
 "nbformat": 4,
 "nbformat_minor": 2
}
