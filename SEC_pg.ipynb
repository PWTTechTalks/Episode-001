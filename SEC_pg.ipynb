{
 "cells": [
  {
   "cell_type": "markdown",
   "metadata": {},
   "source": [
    "<!-- @format -->\n",
    "\n",
    "#### Do all the imports\n"
   ]
  },
  {
   "cell_type": "code",
   "execution_count": 1,
   "metadata": {},
   "outputs": [],
   "source": [
    "import requests \n",
    "from postgres import Postgres\n",
    "from dotenv import load_dotenv\n",
    "from os import getenv\n",
    "from json import dump"
   ]
  },
  {
   "cell_type": "markdown",
   "metadata": {},
   "source": [
    "<!-- @format -->\n",
    "\n",
    "#### load the environments\n"
   ]
  },
  {
   "cell_type": "code",
   "execution_count": 2,
   "metadata": {},
   "outputs": [
    {
     "data": {
      "text/plain": [
       "True"
      ]
     },
     "execution_count": 2,
     "metadata": {},
     "output_type": "execute_result"
    }
   ],
   "source": [
    "load_dotenv('techtalk_SEC.secrets')\n",
    "load_dotenv('techtalk_SEC.env')"
   ]
  },
  {
   "cell_type": "markdown",
   "metadata": {},
   "source": [
    "<!-- @format -->\n",
    "\n",
    "#### prepare the request\n"
   ]
  },
  {
   "cell_type": "code",
   "execution_count": 3,
   "metadata": {},
   "outputs": [],
   "source": [
    "\n",
    "r= requests.Request(method='GET',url=f'{getenv(\"WEB_URL\")}/files/company_tickers.json',headers={\n",
    "    \"User-Agent\":\"PWTTechTalkBot/1.0 Port Wallis Technologies contact - rwolfe@portwallistechnologies.com\",\n",
    "    \"Accept\":\"application/json\"\n",
    "} )\n",
    "s = requests.Session()"
   ]
  },
  {
   "cell_type": "markdown",
   "metadata": {},
   "source": [
    "<!-- @format -->\n",
    "\n",
    "#### Go get the data\n"
   ]
  },
  {
   "cell_type": "code",
   "execution_count": 4,
   "metadata": {},
   "outputs": [],
   "source": [
    "\n",
    "req= s.send( r.prepare())"
   ]
  },
  {
   "cell_type": "markdown",
   "metadata": {},
   "source": [
    "<!-- @format -->\n",
    "\n",
    "#### Save the response to an external file (completely optional)\n"
   ]
  },
  {
   "cell_type": "code",
   "execution_count": 5,
   "metadata": {},
   "outputs": [],
   "source": [
    "with open(file='cik_tickers.json',mode='w') as file:\n",
    "    dump(req.json(),file)   "
   ]
  },
  {
   "cell_type": "markdown",
   "metadata": {},
   "source": [
    "<!-- @format -->\n",
    "\n",
    "#### Stash the response data in a variable\n"
   ]
  },
  {
   "cell_type": "code",
   "execution_count": 6,
   "metadata": {},
   "outputs": [],
   "source": [
    "the_json = req.json()"
   ]
  },
  {
   "cell_type": "markdown",
   "metadata": {},
   "source": [
    "#### stash the ticker mapping into a dict for later"
   ]
  },
  {
   "cell_type": "code",
   "execution_count": 7,
   "metadata": {},
   "outputs": [],
   "source": [
    "ticker_cik  = { the_json[a]['ticker']: the_json[a][\"cik_str\"] for a in the_json}\n",
    "cik_ticker  = { the_json[a]['cik_str']: the_json[a][\"ticker\"] for a in the_json}"
   ]
  },
  {
   "cell_type": "markdown",
   "metadata": {},
   "source": [
    "<!-- @format -->\n",
    "\n",
    "#### Stash the response in a database table\n",
    "\n",
    "1. create the connection\n",
    "1. clear out the table\n",
    "1. insert the new data\n"
   ]
  },
  {
   "cell_type": "code",
   "execution_count": 8,
   "metadata": {},
   "outputs": [],
   "source": [
    "db = Postgres()\n",
    "    \n",
    "# always clear out the table first\n",
    "\n",
    "db.run(f'truncate table \"{getenv(\"PG_SCHEMA\")}\".company_ticker')\n",
    "\n",
    "# bad for us to just toss away this but ...\n",
    "\n",
    "toss_me = [ db.run(  f\"\"\"insert  into \"{getenv(\"PG_SCHEMA\")}\".company_ticker(\n",
    "                cik_str,\n",
    "                ticker,\n",
    "                title) \n",
    "               values (\n",
    "                   '{the_json[a][\"cik_str\"]}',\n",
    "                   '{the_json[a][\"ticker\"]}',\n",
    "                   '{the_json[a][\"title\"].replace(\"'\",\"''\")}') \"\"\" ) \n",
    "       for a in the_json]\n",
    "\n",
    "del(toss_me)"
   ]
  },
  {
   "cell_type": "markdown",
   "metadata": {},
   "source": [
    "<!-- @format -->\n",
    "\n",
    "#### Pull your favorite company's CIK from the database table\n"
   ]
  },
  {
   "cell_type": "code",
   "execution_count": 9,
   "metadata": {},
   "outputs": [],
   "source": [
    "ticker_symbol = 'AES'\n",
    "\n",
    "company_cik :str = db.one(f\"\"\"select cik_str from \n",
    "                          \"{getenv(\"PG_SCHEMA\")}\".company_ticker where ticker = '{ticker_symbol}' \"\"\")\n",
    "\n",
    "# CIK has to be 0 padded to 10 digits with leading 0's or it just honks \n",
    "\n",
    "company_cik = company_cik.rjust(10,'0')"
   ]
  },
  {
   "cell_type": "markdown",
   "metadata": {},
   "source": [
    "<!-- @format -->\n",
    "\n",
    "#### And go get the list of recent submissions for that company\n"
   ]
  },
  {
   "cell_type": "code",
   "execution_count": 10,
   "metadata": {},
   "outputs": [],
   "source": [
    "r.url = f\"\"\"{getenv(\"DATA_URL\")}/submissions/CIK{company_cik}.json\"\"\"\n",
    "\n",
    "req= s.send( r.prepare())"
   ]
  },
  {
   "cell_type": "markdown",
   "metadata": {},
   "source": [
    "<!-- @format -->\n",
    "\n",
    "#### Save the results to a file again\n"
   ]
  },
  {
   "cell_type": "code",
   "execution_count": 11,
   "metadata": {},
   "outputs": [],
   "source": [
    "with open(file=f'submissions-{ticker_symbol}.json',mode='w') as file:\n",
    "    dump(req.json(),file)"
   ]
  },
  {
   "cell_type": "markdown",
   "metadata": {},
   "source": [
    "<!-- @format -->\n",
    "\n",
    "#### save the submissions to a couple of dicts for later use\n"
   ]
  },
  {
   "cell_type": "code",
   "execution_count": 12,
   "metadata": {},
   "outputs": [],
   "source": [
    "\n",
    "submissions:dict = req.json()\n",
    "\n",
    "recent_filings:dict = submissions[\"filings\"][\"recent\"]\n",
    "\n",
    "submission_count =  len(recent_filings[\"accessionNumber\"])\n",
    "\n",
    "sub_list = []\n",
    "\n",
    "for i in range(submission_count):\n",
    "    sub_list.append( {k: recent_filings[k][i] for k in recent_filings.keys()})\n",
    "\n"
   ]
  },
  {
   "cell_type": "code",
   "execution_count": 13,
   "metadata": {},
   "outputs": [],
   "source": [
    "form_names = set()\n",
    "\n",
    "toss_me = [\n",
    "    form_names.add(sub_list[i][\"form\"])\n",
    "    for i in range(len(sub_list))\n",
    "    if sub_list[i][\"form\"] not in form_names\n",
    "]\n",
    "\n",
    "all_forms:dict[str:list] = {k:list() for k in form_names}\n",
    "\n",
    "\n",
    "toss_me = [\n",
    "    all_forms[sub_list[i][\"form\"]].append(sub_list[i]) \n",
    "    for i in range(submission_count) \n",
    "]\n",
    "\n",
    "del(toss_me)\n"
   ]
  }
 ],
 "metadata": {
  "kernelspec": {
   "display_name": ".venv",
   "language": "python",
   "name": "python3"
  },
  "language_info": {
   "codemirror_mode": {
    "name": "ipython",
    "version": 3
   },
   "file_extension": ".py",
   "mimetype": "text/x-python",
   "name": "python",
   "nbconvert_exporter": "python",
   "pygments_lexer": "ipython3",
   "version": "3.11.4"
  },
  "orig_nbformat": 4
 },
 "nbformat": 4,
 "nbformat_minor": 2
}
