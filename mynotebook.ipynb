{
 "cells": [
  {
   "cell_type": "markdown",
   "metadata": {},
   "source": [
    "Import things we need"
   ]
  },
  {
   "cell_type": "code",
   "execution_count": 1,
   "metadata": {},
   "outputs": [],
   "source": [
    "import requests\n",
    "import json\n"
   ]
  },
  {
   "cell_type": "markdown",
   "metadata": {},
   "source": [
    "make the api call to get the CIK to ticker file\n"
   ]
  },
  {
   "cell_type": "code",
   "execution_count": 3,
   "metadata": {},
   "outputs": [],
   "source": [
    "req = requests.get('https://www.sec.gov/files/company_tickers.json',headers={\"User-Agent\":\"PWTTechTalkBot/1.0 Port Wallis Technologies contact - rwolfe@portwallistechnologies.com\"})\n"
   ]
  },
  {
   "cell_type": "markdown",
   "metadata": {},
   "source": [
    "save the response \n"
   ]
  },
  {
   "cell_type": "code",
   "execution_count": 5,
   "metadata": {},
   "outputs": [],
   "source": [
    "the_json = req.json()\n",
    "ticker_cik = {the_json[a][\"ticker\"]: str(the_json[a][\"cik_str\"]).zfill(10) for a in the_json}\n",
    "\n",
    "\n"
   ]
  },
  {
   "cell_type": "markdown",
   "metadata": {},
   "source": [
    "Get the financials"
   ]
  },
  {
   "cell_type": "code",
   "execution_count": 11,
   "metadata": {},
   "outputs": [],
   "source": [
    "\n",
    "req = requests.get(f'https://data.sec.gov/api/xbrl/companyfacts/CIK{ticker_cik[\"JPM-PD\"]}.json',headers={\"User-Agent\":\"PWTTechTalkBot/1.0 Port Wallis Technologies contact - rwolfe@portwallistechnologies.com\"})\n"
   ]
  },
  {
   "cell_type": "code",
   "execution_count": 55,
   "metadata": {},
   "outputs": [
    {
     "name": "stdout",
     "output_type": "stream",
     "text": [
      "JP MOrgan had $37,676,000,000 on $128,695,000,000 in Fiscal Year 2022 according to their most recent filing\n"
     ]
    }
   ],
   "source": [
    "\n",
    "the_json = req.json()\n",
    "\n",
    "all_revenue = the_json[\"facts\"][\"us-gaap\"][\"Revenues\"][\"units\"][\"USD\"]\n",
    "\n",
    "revenue = [all_revenue[n][\"val\"] for n in range(len(all_revenue)) if all_revenue[n].get(\"frame\") == \"CY2022\"][0]    \n",
    "\n",
    "all_profits = the_json[\"facts\"][\"us-gaap\"][\"NetIncomeLoss\"][\"units\"][\"USD\"]   \n",
    "\n",
    "profits = [all_profits[n][\"val\"] for n in range(len(all_profits)) if all_profits[n].get(\"frame\") == \"CY2022\"][0]    \n",
    "\n",
    "\n",
    "print(f'JP MOrgan had ${profits:,} on ${revenue:,} reveune in Fiscal Year 2022 according to their most recent filing')\n"
   ]
  },
  {
   "cell_type": "markdown",
   "metadata": {},
   "source": []
  }
 ],
 "metadata": {
  "kernelspec": {
   "display_name": "forJupyter",
   "language": "python",
   "name": "forjupyter"
  },
  "language_info": {
   "codemirror_mode": {
    "name": "ipython",
    "version": 3
   },
   "file_extension": ".py",
   "mimetype": "text/x-python",
   "name": "python",
   "nbconvert_exporter": "python",
   "pygments_lexer": "ipython3",
   "version": "3.11.4"
  },
  "orig_nbformat": 4
 },
 "nbformat": 4,
 "nbformat_minor": 2
}
